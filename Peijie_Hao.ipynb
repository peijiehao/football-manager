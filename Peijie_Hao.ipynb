{
 "cells": [
  {
   "cell_type": "code",
   "execution_count": 137,
   "metadata": {},
   "outputs": [],
   "source": [
    "from pyspark import SparkContext\n",
    "from pyspark.sql import SQLContext\n",
    "from pyspark.sql.types import StringType\n",
    "\n",
    "import numpy as np\n",
    "\n",
    "sc =SparkContext.getOrCreate()\n",
    "sqlContext = SQLContext(sc)"
   ]
  },
  {
   "cell_type": "code",
   "execution_count": null,
   "metadata": {},
   "outputs": [],
   "source": []
  },
  {
   "cell_type": "code",
   "execution_count": 138,
   "metadata": {},
   "outputs": [],
   "source": [
    "def readCSV(path):\n",
    "    return sqlContext.read.format(\"csv\").options(header=\"true\")\\\n",
    "    .load(path)\n",
    "\n"
   ]
  },
  {
   "cell_type": "code",
   "execution_count": 139,
   "metadata": {},
   "outputs": [],
   "source": [
    "team_df = readCSV(\"/Users/peggy/Desktop/footballManager/team_feat.csv\")\n",
    "player_df = readCSV(\"/Users/peggy/Desktop/footballManager/data_clean.csv\")"
   ]
  },
  {
   "cell_type": "code",
   "execution_count": 140,
   "metadata": {},
   "outputs": [],
   "source": [
    "def playerSimilarity(p1, p2):\n",
    "    cosine = np.dot(p1,p2)/(np.linalg.norm(p1)*(np.linalg.norm(p2)))\n",
    "    r =  np.sqrt(sum([i ** 2 for i in p1]))\n",
    "    return r * cosine"
   ]
  },
  {
   "cell_type": "code",
   "execution_count": 141,
   "metadata": {},
   "outputs": [],
   "source": [
    "def findTopK(playerList, K, player, sort_type):\n",
    "    playerList.append(player)\n",
    "    playerList.sort(key=lambda p: sort_type * p[1])\n",
    "    if(len(playerList) > K):\n",
    "        return playerList[:K]\n",
    "    return playerList\n",
    "\n",
    "\n",
    "def mergeTopK(pList1, pList2, K, sort_type):\n",
    "    result = pList1 + pList2\n",
    "    result.sort(key=lambda p:sort_type*p[1])\n",
    "    if(len(result) > K):\n",
    "        return result[:K]\n",
    "    return result"
   ]
  },
  {
   "cell_type": "code",
   "execution_count": 144,
   "metadata": {
    "scrolled": true
   },
   "outputs": [
    {
     "name": "stdout",
     "output_type": "stream",
     "text": [
      "+-----------------+---+-----------+-------------------+----------+-----------+\n",
      "|             Name|Age|Nationality|               Club|Height(cm)|Weight(lbs)|\n",
      "+-----------------+---+-----------+-------------------+----------+-----------+\n",
      "|Cristiano Ronaldo| 33|   Portugal|           Juventus|    187.96|        183|\n",
      "|          G. Bale| 28|      Wales|        Real Madrid|    185.42|        181|\n",
      "|     K. De Bruyne| 27|    Belgium|    Manchester City|    180.34|        154|\n",
      "|        L. Suárez| 31|    Uruguay|       FC Barcelona|    182.88|        190|\n",
      "|     A. Griezmann| 27|     France|    Atlético Madrid|    175.26|        161|\n",
      "| L. Modri<U+0107>| 32|    Croatia|        Real Madrid|    172.72|        146|\n",
      "|        E. Hazard| 27|    Belgium|            Chelsea|    172.72|        163|\n",
      "|        Neymar Jr| 26|     Brazil|Paris Saint-Germain|    175.26|        150|\n",
      "|         P. Pogba| 25|     France|  Manchester United|    193.04|        185|\n",
      "|        P. Dybala| 24|  Argentina|           Juventus|     177.8|        165|\n",
      "|         Coutinho| 26|     Brazil|       FC Barcelona|    172.72|        150|\n",
      "|          Marcelo| 30|     Brazil|        Real Madrid|    175.26|        176|\n",
      "|          M. Reus| 29|    Germany|  Borussia Dortmund|    180.34|        157|\n",
      "|        S. Agüero| 30|  Argentina|    Manchester City|    172.72|        154|\n",
      "|   R. Lewandowski| 29|     Poland|  FC Bayern München|    182.88|        176|\n",
      "|       A. Sánchez| 29|      Chile|  Manchester United|    170.18|        163|\n",
      "|     J. Rodríguez| 26|   Colombia|  FC Bayern München|    180.34|        172|\n",
      "|          H. Kane| 24|    England|  Tottenham Hotspur|    187.96|        196|\n",
      "|  Bruno Fernandes| 23|   Portugal|        Sporting CP|     177.8|        152|\n",
      "|        K. Mbappé| 19|     France|Paris Saint-Germain|     177.8|        161|\n",
      "+-----------------+---+-----------+-------------------+----------+-----------+\n",
      "\n",
      "DataFrame[Name: string, Age: string, Nationality: string, Club: string, Height(cm): string, Weight(lbs): string]\n"
     ]
    }
   ],
   "source": [
    "def findSimilarPlayer(df, name, topK):\n",
    "    player_df = df.select([\"ID\"] + df.columns[44:73]).where(df.Name == name)\n",
    "    if player_df == None:\n",
    "        raise NameError(\"No Player Found!\")\n",
    "    playerInfo = player_df.rdd.map(list)\\\n",
    "        .map(lambda l:(l[0], [int(l[i]) for i in range(1, len(l))])).collect()[0]\n",
    "    (playerId, playerList) = playerInfo[0], playerInfo[1]\n",
    "    mat = df.select([\"ID\"] + df.columns[44:73]).rdd.map(list)\\\n",
    "        .map(lambda l:(l[0], [int(l[i]) for i in range(1, len(l))]))\\\n",
    "        .filter(lambda kv: kv[0] != playerId)\\\n",
    "        .mapValues(lambda l: playerSimilarity(l, playerList))\n",
    "\n",
    "    res = mat.aggregate([], lambda inp1, inp2: findTopK(inp1, topK, inp2, -1), lambda inp1, inp2: mergeTopK(inp1, inp2, topK, -1))\n",
    "    res = [id for id, score in res]\n",
    "    id_df = sqlContext.createDataFrame(res, StringType()).toDF(\"ID\")\n",
    "    res = df.join(id_df, \"ID\", \"inner\").select(\"Name\", \"Age\", \"Nationality\", \"Club\", \"Height(cm)\", \"Weight(lbs)\")\n",
    "    res.show()\n",
    "    return res\n",
    "    \n",
    "\n",
    "print (findSimilarPlayer(player_df, \"L. Messi\", 20))\n",
    "    "
   ]
  },
  {
   "cell_type": "code",
   "execution_count": 145,
   "metadata": {},
   "outputs": [],
   "source": [
    "def findBestReplicate(teamName, playerId, df, topK, weightVector):\n",
    "    '''\n",
    "    return list of [(player_id, replace_id, improve score)]\n",
    "    '''\n",
    "    player_info = df.select(df.columns[44:73]).where(df.ID == playerId).rdd.map(list)\\\n",
    "            .map(lambda l: [float(i) for i in l]).collect()[0] # list\n",
    "    candidatePlayers = df.select([\"ID\"] + df.columns[44:73]).where(df.Club != teamName).rdd.map(list)\\\n",
    "        .map(lambda l:(l[0], [float(l[i]) for i in range(1, len(l))]))\\\n",
    "        .mapValues(lambda vals: improve(vals, player_info, weightVector)) # rdd\n",
    "    res = candidatePlayers.aggregate([], lambda inp1, inp2: findTopK(inp1, topK, inp2, -1), lambda inp1, inp2: mergeTopK(inp1, inp2, topK, -1))\n",
    "    res = [(playerId, id, score) for id, score in res]\n",
    "    return res\n",
    "\n",
    "def improve(l1, l2, weight):\n",
    "    improve = 0\n",
    "    for i in range(len(l1)):\n",
    "        improve += (l1[i] - l2[i]) * weight[i]\n",
    "    return improve\n"
   ]
  },
  {
   "cell_type": "code",
   "execution_count": 163,
   "metadata": {},
   "outputs": [
    {
     "name": "stdout",
     "output_type": "stream",
     "text": [
      "player:137114 replacement:178518 improvement:289.4444444444445\n",
      "player:137114 replacement:181872 improvement:288.8888888888889\n",
      "player:137114 replacement:197445 improvement:288.33333333333337\n"
     ]
    }
   ],
   "source": [
    "def featureThreshold(l):\n",
    "    temp = sorted(l)\n",
    "    return temp[int(len(l) / 4)]\n",
    "\n",
    "\n",
    "def findWorstFeatures(teamName, team_df):\n",
    "    '''\n",
    "    take the team name and team dataframe and return list of index of weak features start from 0 = Crossing\n",
    "    '''\n",
    "    targ_df = team_df.select('*').where(team_df.Club == teamName).rdd.map(list)\\\n",
    "            .map(lambda l: (l[0], [float(l[i]) for i in range(1, len(l))]))\\\n",
    "            .mapValues(lambda l: (featureThreshold(l), l))\\\n",
    "            .mapValues(lambda tup: [index for index, val in enumerate(tup[1]) if val < tup[0]])\n",
    "    feature_indexes = targ_df.collect()[0][1]\n",
    "    return feature_indexes\n",
    "    \n",
    "    \n",
    "def createWeightVector(feature_indexes):\n",
    "    '''\n",
    "    take list of weak features and return weight list of size 29\n",
    "    '''\n",
    "    norm = float(10 / (29 + len(feature_indexes)))\n",
    "    weightVector = [2.0 * norm if index in feature_indexes else norm for index in range(29)]\n",
    "    return weightVector\n",
    "     \n",
    "    \n",
    "def findWorstPlayers(teamName, player_df, feature_indexes):\n",
    "    '''\n",
    "    take team name, player dataframe, weak features index list\n",
    "    return list of worst players id\n",
    "    '''\n",
    "    worst_players = player_df.select([\"ID\"] + player_df.columns[44:73]).where(player_df.Club == teamName).rdd.map(list)\\\n",
    "            .map(lambda l: (l[0], [float(i) for i in l[1:]]))\\\n",
    "            .mapValues(lambda l: [l[i] for i in range(len(l)) if i in feature_indexes])\\\n",
    "            .mapValues(lambda l: sum(l)).collect()\n",
    "    worst_players.sort(key = lambda t: t[1], reverse=True)\n",
    "    return [id for id, index in worst_players][:10]\n",
    "\n",
    "\n",
    "    \n",
    "def replaceModeRecommendation(player_df, team_df, teamName, topK):\n",
    "    feature_indexes = findWorstFeatures(teamName, team_df)\n",
    "#     print([team_df.columns[i + 1] for i in feature_indexes])\n",
    "    weight_vector = createWeightVector(feature_indexes)\n",
    "#     print(weight_vector)\n",
    "    worst_players = findWorstPlayers(teamName, player_df, feature_indexes)\n",
    "    res = []\n",
    "    for player_id in worst_players:\n",
    "        res += findBestReplicate(teamName, player_id, player_df, topK, weight_vector)\n",
    "    res.sort(key = lambda l: l[2], reverse=True)\n",
    "    return res[:topK]\n",
    "    \n",
    "\n",
    "\n",
    "def printPlayerInfo(player_df, playerId):\n",
    "    player_info = player_df.select(\"ID\", 'Name', \"Age\", \"Nationality\", \"Overall\", \"Club\", \"Position\")\\\n",
    "            .where(player_df.ID == playerId).show()\n",
    "\n",
    "\n",
    "\n",
    "# team_name = 'FC Barcelona'\n",
    "\n",
    "# p1, p2 = replaceModeRecommendation(player_df, team_df, team_name)\n",
    "# printPlayerInfo(player_df, p1)\n",
    "# printPlayerInfo(player_df, p2)\n",
    "\n",
    "team_name = 'LA Galaxy'\n",
    "res = replaceModeRecommendation(player_df, team_df, team_name, 3)\n",
    "for i in res:\n",
    "    print(\"player:\" + i[0] +\" replacement:\" + i[1] + \" improvement:\" + str(i[2]))\n"
   ]
  },
  {
   "cell_type": "code",
   "execution_count": 117,
   "metadata": {},
   "outputs": [
    {
     "name": "stdout",
     "output_type": "stream",
     "text": [
      "Row(Club='FC Barcelona', Crossing='80.62476177064626', Finishing='81.540688809306', HeadingAccuracy='76.74369928962068', ShortPassing='86.23370323678645', Volleys='77.52326333708207', Dribbling='87.37904545330319', Curve='83.40222425085713', FKAccuracy='78.63074125271213', LongPassing='82.10312165178314', BallControl='88.09562595091771', Acceleration='87.16262074103706', SprintSpeed='84.8290963007526', Agility='86.94290823807727', Reactions='86.33703058169628', Balance='86.42046501651164', ShotPower='82.47033883901801', Jumping='82.18584618622971', Stamina='84.9731157307648', Strength='78.10304695526871', LongShots='84.58731838575437', Aggression='80.66883086070462', Interceptions='82.01912593583735', Positioning='82.98261152893497', Vision='85.63862090045062', Penalties='75.68051410036797', Composure='85.84881264827561', Marking='82.18240960220339', StandingTackle='82.64364955148712', SlidingTackle='80.60619365785712')\n"
     ]
    }
   ],
   "source": []
  },
  {
   "cell_type": "code",
   "execution_count": null,
   "metadata": {},
   "outputs": [],
   "source": []
  }
 ],
 "metadata": {
  "kernelspec": {
   "display_name": "Python 3",
   "language": "python",
   "name": "python3"
  },
  "language_info": {
   "codemirror_mode": {
    "name": "ipython",
    "version": 3
   },
   "file_extension": ".py",
   "mimetype": "text/x-python",
   "name": "python",
   "nbconvert_exporter": "python",
   "pygments_lexer": "ipython3",
   "version": "3.7.3"
  }
 },
 "nbformat": 4,
 "nbformat_minor": 2
}
